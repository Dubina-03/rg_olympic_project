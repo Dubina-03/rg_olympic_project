{
 "cells": [
  {
   "cell_type": "markdown",
   "id": "015483f9-41f3-40ed-a354-1f9d0b58edad",
   "metadata": {},
   "source": [
    "# Web scraping "
   ]
  },
  {
   "cell_type": "markdown",
   "id": "d97955f2-5a20-4e6c-8245-f86f36728fd4",
   "metadata": {},
   "source": [
    "Import libraries"
   ]
  },
  {
   "cell_type": "code",
   "execution_count": 1,
   "id": "499d0810-db98-44c5-81f8-622a7d340704",
   "metadata": {},
   "outputs": [],
   "source": [
    "import pandas as pd\n",
    "import time\n",
    "import json\n",
    "from selenium import webdriver\n",
    "from webdriver_manager.chrome import ChromeDriverManager\n",
    "from selenium.webdriver.common.by import By\n",
    "from selenium.webdriver.chrome.service import Service\n",
    "from selenium.webdriver.chrome.options import Options"
   ]
  },
  {
   "cell_type": "code",
   "execution_count": 2,
   "id": "b994a3b6-5677-41ce-8d91-edccd69eacd7",
   "metadata": {},
   "outputs": [],
   "source": [
    "# Create service\n",
    "webdriver_service = Service(ChromeDriverManager().install())\n",
    "# Create driver\n",
    "driver = webdriver.Chrome(service = webdriver_service)"
   ]
  },
  {
   "cell_type": "code",
   "execution_count": 3,
   "id": "dd44419a-508b-42ec-b1d8-5c66e81bace0",
   "metadata": {},
   "outputs": [],
   "source": [
    "# Go to the the main page of the site\n",
    "page_url = \"https://olympics.com/en/olympic-games\"\n",
    "driver.get(page_url)"
   ]
  },
  {
   "cell_type": "code",
   "execution_count": 4,
   "id": "c2442d1a-5323-4059-a724-8843f05f71d5",
   "metadata": {},
   "outputs": [],
   "source": [
    "# # Click on Accept cookies\n",
    "#time.sleep(3)\n",
    "#driver.find_element(By.XPATH, '//button[text()=\"Yes, I am happy\"]').click()"
   ]
  },
  {
   "cell_type": "code",
   "execution_count": 5,
   "id": "447b9043-e350-44de-b1ba-7302d89f9729",
   "metadata": {},
   "outputs": [],
   "source": [
    "driver.execute_script(\"window.scrollTo(0,document.body.scrollHeight)\")\n",
    "time.sleep(5)"
   ]
  },
  {
   "cell_type": "code",
   "execution_count": 6,
   "id": "e5c55468-ce45-4b36-9ba9-7d0fb9a5a1d5",
   "metadata": {},
   "outputs": [],
   "source": [
    "games = json.loads(driver.find_element(By.CSS_SELECTOR, 'script[type=\"application/ld+json\"]').get_attribute(\"innerHTML\"))"
   ]
  },
  {
   "cell_type": "markdown",
   "id": "b48db27a-aedd-422e-b22e-25d762237e83",
   "metadata": {},
   "source": [
    "Getting links to pages with olympic games data"
   ]
  },
  {
   "cell_type": "code",
   "execution_count": 7,
   "id": "f7a05e2e-5363-4dce-8d41-9a9ac71f219c",
   "metadata": {},
   "outputs": [
    {
     "data": {
      "text/plain": [
       "['https://olympics.com/en/olympic-games/tokyo-2020/results/rhythmic-gymnastics/individual-all-around',\n",
       " 'https://olympics.com/en/olympic-games/rio-2016/results/gymnastics-rhythmic/individual-all-around-women',\n",
       " 'https://olympics.com/en/olympic-games/london-2012/results/gymnastics-rhythmic/individual-all-round-women',\n",
       " 'https://olympics.com/en/olympic-games/beijing-2008/results/gymnastics-rhythmic/individual-all-round-women',\n",
       " 'https://olympics.com/en/olympic-games/athens-2004/results/gymnastics-rhythmic/individual-all-round-women',\n",
       " 'https://olympics.com/en/olympic-games/sydney-2000/results/gymnastics-rhythmic/individual-all-round-women',\n",
       " 'https://olympics.com/en/olympic-games/atlanta-1996/results/gymnastics-rhythmic/individual-all-round-women',\n",
       " 'https://olympics.com/en/olympic-games/barcelona-1992/results/gymnastics-rhythmic/individual-all-round-women',\n",
       " 'https://olympics.com/en/olympic-games/seoul-1988/results/gymnastics-rhythmic/individual-all-round-women',\n",
       " 'https://olympics.com/en/olympic-games/los-angeles-1984/results/gymnastics-rhythmic/individual-all-round-women']"
      ]
     },
     "execution_count": 7,
     "metadata": {},
     "output_type": "execute_result"
    }
   ],
   "source": [
    "result_link_list = []\n",
    "for game in games['itemListElement']:\n",
    "    link = game['url'].split('olympic-games')[0] + 'en/olympic-games' + game['url'].split('olympic-games')[1] + '/results'\n",
    "    link_temp = ''\n",
    "    driver.get(link)\n",
    "    try:\n",
    "        discipline = json.loads(driver.find_element(By.CSS_SELECTOR, 'script[type=\"application/json\"]').get_attribute(\"innerHTML\"))\n",
    "    except:\n",
    "        continue\n",
    "    for disc in discipline['props']['pageProps']['olympicGame']['disciplines']:\n",
    "        if 'rhythmic' in disc['slug']:\n",
    "            link_temp = link + '/' + disc['slug']\n",
    "            break\n",
    "    if link_temp != '':\n",
    "        driver.get(link_temp)\n",
    "        result_link = driver.find_element(By.CSS_SELECTOR, 'div[data-cy*=\"full-results-link\"] a[href*=\"individual\"]').get_attribute(\"href\")\n",
    "        if len(result_link) > 1:\n",
    "            result_link_list.append(result_link)\n",
    "result_link_list"
   ]
  },
  {
   "cell_type": "markdown",
   "id": "c05095b4-c2b8-41c9-b803-dad4c339429b",
   "metadata": {},
   "source": [
    "Getting data "
   ]
  },
  {
   "cell_type": "code",
   "execution_count": 8,
   "id": "248a0a02-a591-4450-8a33-c6070a87b0db",
   "metadata": {},
   "outputs": [],
   "source": [
    "game_l = []\n",
    "gym_place_l = []\n",
    "gym_country_l = []\n",
    "gym_name_l = []\n",
    "gym_score_l = []\n",
    "for page in result_link_list:\n",
    "    driver.get(page)\n",
    "    name_game = driver.find_element(By.CSS_SELECTOR, 'h1[class*=\"styles__Header\"] span').text\n",
    "    gym_place = driver.find_elements(By.CSS_SELECTOR, 'div[data-cy=\"table-content\"] div[data-cy*=\"medal-row\"]')\n",
    "    gym_country = driver.find_elements(By.CSS_SELECTOR, 'div[data-cy=\"table-content\"] span[class*=\"CountryName\"]')\n",
    "    gym_name = driver.find_elements(By.CSS_SELECTOR, 'div[data-cy=\"table-content\"] h3[data-cy=\"athlete-name\"]')\n",
    "    gym_score = driver.find_elements(By.CSS_SELECTOR, 'div[data-cy=\"table-content\"] span[data-cy=\"result-info-content\"]')\n",
    "    for index in range(10):\n",
    "        game_l.append(name_game)\n",
    "        gym_place_l.append(int(gym_place[index].get_attribute(\"data-cy\").split('-')[-1]))\n",
    "        if gym_country[index].text=='ROC':\n",
    "            gym_country_l.append('RUS')\n",
    "        elif gym_country[index].text=='EUN':\n",
    "            gym_country_l.append('UKR')\n",
    "        else:\n",
    "            gym_country_l.append(gym_country[index].text)\n",
    "        gym_name_l.append(gym_name[index].text)\n",
    "        gym_score_l.append(gym_score[index].text)"
   ]
  },
  {
   "cell_type": "code",
   "execution_count": 9,
   "id": "958fafa8-d850-46cf-91b9-0f7306768e35",
   "metadata": {},
   "outputs": [
    {
     "data": {
      "text/html": [
       "<div>\n",
       "<style scoped>\n",
       "    .dataframe tbody tr th:only-of-type {\n",
       "        vertical-align: middle;\n",
       "    }\n",
       "\n",
       "    .dataframe tbody tr th {\n",
       "        vertical-align: top;\n",
       "    }\n",
       "\n",
       "    .dataframe thead th {\n",
       "        text-align: right;\n",
       "    }\n",
       "</style>\n",
       "<table border=\"1\" class=\"dataframe\">\n",
       "  <thead>\n",
       "    <tr style=\"text-align: right;\">\n",
       "      <th></th>\n",
       "      <th>game</th>\n",
       "      <th>place</th>\n",
       "      <th>country</th>\n",
       "      <th>name</th>\n",
       "      <th>score</th>\n",
       "    </tr>\n",
       "  </thead>\n",
       "  <tbody>\n",
       "    <tr>\n",
       "      <th>0</th>\n",
       "      <td>TOKYO 2020</td>\n",
       "      <td>1</td>\n",
       "      <td>ISR</td>\n",
       "      <td>Linoy Ashram</td>\n",
       "      <td>107.800</td>\n",
       "    </tr>\n",
       "    <tr>\n",
       "      <th>1</th>\n",
       "      <td>TOKYO 2020</td>\n",
       "      <td>2</td>\n",
       "      <td>RUS</td>\n",
       "      <td>Dina Averina</td>\n",
       "      <td>107.650</td>\n",
       "    </tr>\n",
       "    <tr>\n",
       "      <th>2</th>\n",
       "      <td>TOKYO 2020</td>\n",
       "      <td>3</td>\n",
       "      <td>BLR</td>\n",
       "      <td>Alina Harnasko</td>\n",
       "      <td>102.700</td>\n",
       "    </tr>\n",
       "    <tr>\n",
       "      <th>3</th>\n",
       "      <td>TOKYO 2020</td>\n",
       "      <td>4</td>\n",
       "      <td>RUS</td>\n",
       "      <td>Arina Averina</td>\n",
       "      <td>102.100</td>\n",
       "    </tr>\n",
       "    <tr>\n",
       "      <th>4</th>\n",
       "      <td>TOKYO 2020</td>\n",
       "      <td>5</td>\n",
       "      <td>BUL</td>\n",
       "      <td>Boryana Kaleyn</td>\n",
       "      <td>100.625</td>\n",
       "    </tr>\n",
       "    <tr>\n",
       "      <th>...</th>\n",
       "      <td>...</td>\n",
       "      <td>...</td>\n",
       "      <td>...</td>\n",
       "      <td>...</td>\n",
       "      <td>...</td>\n",
       "    </tr>\n",
       "    <tr>\n",
       "      <th>95</th>\n",
       "      <td>LOS ANGELES 1984</td>\n",
       "      <td>6</td>\n",
       "      <td>ESP</td>\n",
       "      <td>Marta Canton Gutierrez</td>\n",
       "      <td>56.950</td>\n",
       "    </tr>\n",
       "    <tr>\n",
       "      <th>96</th>\n",
       "      <td>LOS ANGELES 1984</td>\n",
       "      <td>7</td>\n",
       "      <td>ITA</td>\n",
       "      <td>Giulia Staccioli</td>\n",
       "      <td>56.775</td>\n",
       "    </tr>\n",
       "    <tr>\n",
       "      <th>97</th>\n",
       "      <td>LOS ANGELES 1984</td>\n",
       "      <td>8</td>\n",
       "      <td>JPN</td>\n",
       "      <td>Hiroko Yamasaki</td>\n",
       "      <td>56.675</td>\n",
       "    </tr>\n",
       "    <tr>\n",
       "      <th>98</th>\n",
       "      <td>LOS ANGELES 1984</td>\n",
       "      <td>9</td>\n",
       "      <td>ESP</td>\n",
       "      <td>Marta Bobo Arce</td>\n",
       "      <td>56.375</td>\n",
       "    </tr>\n",
       "    <tr>\n",
       "      <th>99</th>\n",
       "      <td>LOS ANGELES 1984</td>\n",
       "      <td>10</td>\n",
       "      <td>YUG</td>\n",
       "      <td>Daniela Simic</td>\n",
       "      <td>56.325</td>\n",
       "    </tr>\n",
       "  </tbody>\n",
       "</table>\n",
       "<p>100 rows × 5 columns</p>\n",
       "</div>"
      ],
      "text/plain": [
       "                game  place country                    name    score\n",
       "0         TOKYO 2020      1     ISR            Linoy Ashram  107.800\n",
       "1         TOKYO 2020      2     RUS            Dina Averina  107.650\n",
       "2         TOKYO 2020      3     BLR          Alina Harnasko  102.700\n",
       "3         TOKYO 2020      4     RUS           Arina Averina  102.100\n",
       "4         TOKYO 2020      5     BUL          Boryana Kaleyn  100.625\n",
       "..               ...    ...     ...                     ...      ...\n",
       "95  LOS ANGELES 1984      6     ESP  Marta Canton Gutierrez   56.950\n",
       "96  LOS ANGELES 1984      7     ITA        Giulia Staccioli   56.775\n",
       "97  LOS ANGELES 1984      8     JPN         Hiroko Yamasaki   56.675\n",
       "98  LOS ANGELES 1984      9     ESP         Marta Bobo Arce   56.375\n",
       "99  LOS ANGELES 1984     10     YUG           Daniela Simic   56.325\n",
       "\n",
       "[100 rows x 5 columns]"
      ]
     },
     "execution_count": 9,
     "metadata": {},
     "output_type": "execute_result"
    }
   ],
   "source": [
    "data = pd.DataFrame({\"game\" : game_l, \"place\" : gym_place_l, \"country\" : gym_country_l, \"name\" : gym_name_l, \"score\" : gym_score_l})\n",
    "data"
   ]
  },
  {
   "cell_type": "markdown",
   "id": "f52a2343-f235-4f89-bfee-033774095cdb",
   "metadata": {},
   "source": [
    "Saving dataset in csv file"
   ]
  },
  {
   "cell_type": "code",
   "execution_count": 10,
   "id": "d65dfbc1-6dca-47ef-b08b-14efbc132875",
   "metadata": {},
   "outputs": [],
   "source": [
    "data.to_csv('data_rg.csv', index=False)"
   ]
  }
 ],
 "metadata": {
  "kernelspec": {
   "display_name": "virtualrg",
   "language": "python",
   "name": "virtualrg"
  },
  "language_info": {
   "codemirror_mode": {
    "name": "ipython",
    "version": 3
   },
   "file_extension": ".py",
   "mimetype": "text/x-python",
   "name": "python",
   "nbconvert_exporter": "python",
   "pygments_lexer": "ipython3",
   "version": "3.8.10"
  }
 },
 "nbformat": 4,
 "nbformat_minor": 5
}
